{
 "cells": [
  {
   "cell_type": "markdown",
   "id": "8d740a5a",
   "metadata": {},
   "source": [
    "name=\"milan\"\n",
    "age=22\n",
    "print(name)\n",
    "print (age)"
   ]
  },
  {
   "cell_type": "code",
   "execution_count": 1,
   "id": "d4b0dc6c",
   "metadata": {},
   "outputs": [
    {
     "name": "stdout",
     "output_type": "stream",
     "text": [
      "lucy\n",
      "21\n"
     ]
    }
   ],
   "source": [
    "name=\"lucy\"\n",
    "age=21\n",
    "print(name)\n",
    "print(age)"
   ]
  },
  {
   "cell_type": "code",
   "execution_count": 2,
   "id": "16940703",
   "metadata": {},
   "outputs": [
    {
     "name": "stdout",
     "output_type": "stream",
     "text": [
      "lucy\n",
      "22\n"
     ]
    }
   ],
   "source": [
    "name=\"lucy\"\n",
    "age=22\n",
    "is_adult=False\n",
    "print(name)\n",
    "print(age)"
   ]
  },
  {
   "cell_type": "code",
   "execution_count": 3,
   "id": "a16652ce",
   "metadata": {},
   "outputs": [
    {
     "name": "stdout",
     "output_type": "stream",
     "text": [
      "Tony is a genius\n"
     ]
    }
   ],
   "source": [
    "name=\"Tony Stark\"\n",
    "age=51\n",
    "print(\"Tony is a genius\")"
   ]
  },
  {
   "cell_type": "code",
   "execution_count": 11,
   "id": "6e41d488",
   "metadata": {},
   "outputs": [
    {
     "name": "stdout",
     "output_type": "stream",
     "text": [
      "Tony Stark\n",
      "51\n",
      "True\n"
     ]
    }
   ],
   "source": [
    "firstname=\"Tony\"\n",
    "lastname=\"Stark\"\n",
    "age=51\n",
    "is_genius=True\n",
    "print(firstname +\" \"+lastname)\n",
    "print(age)\n",
    "print(is_genius)"
   ]
  },
  {
   "cell_type": "code",
   "execution_count": 12,
   "id": "809ad449",
   "metadata": {},
   "outputs": [
    {
     "name": "stdout",
     "output_type": "stream",
     "text": [
      "What is Your Name?lucy\n",
      "lucy\n"
     ]
    }
   ],
   "source": [
    "name = input(\"What is Your Name?\")\n",
    "print(name)"
   ]
  },
  {
   "cell_type": "code",
   "execution_count": 13,
   "id": "21a147ee",
   "metadata": {},
   "outputs": [
    {
     "name": "stdout",
     "output_type": "stream",
     "text": [
      "what is your name?lucy\n",
      "HEllolucy\n"
     ]
    }
   ],
   "source": [
    "name=input(\"what is your name?\")\n",
    "print(\"HEllo\"+ name)"
   ]
  },
  {
   "cell_type": "code",
   "execution_count": 14,
   "id": "a169f88d",
   "metadata": {},
   "outputs": [
    {
     "name": "stdout",
     "output_type": "stream",
     "text": [
      "What is your super hero name tony?spiderman\n",
      "spiderman\n"
     ]
    }
   ],
   "source": [
    "name=input(\"What is your super hero name tony?\")\n",
    "print(name)"
   ]
  },
  {
   "cell_type": "code",
   "execution_count": 17,
   "id": "d04c880b",
   "metadata": {},
   "outputs": [
    {
     "name": "stdout",
     "output_type": "stream",
     "text": [
      "Enter Your Old Age:-19\n",
      "21\n"
     ]
    }
   ],
   "source": [
    "old_age=input(\"Enter Your Old Age:-\")\n",
    "\n",
    "new_age=int(old_age)+2\n",
    "print(new_age)"
   ]
  },
  {
   "cell_type": "code",
   "execution_count": 18,
   "id": "02ded9fe",
   "metadata": {},
   "outputs": [
    {
     "name": "stdout",
     "output_type": "stream",
     "text": [
      "18.0\n"
     ]
    }
   ],
   "source": [
    "number=18\n",
    "print(float(18))"
   ]
  },
  {
   "cell_type": "code",
   "execution_count": 22,
   "id": "0c1f8806",
   "metadata": {},
   "outputs": [
    {
     "name": "stdout",
     "output_type": "stream",
     "text": [
      "Enter 1st no:-2\n",
      "Enter 2nd no:-3\n",
      "23\n"
     ]
    }
   ],
   "source": [
    "first=input(\"Enter 1st no:-\")\n",
    "second=input(\"Enter 2nd no:-\")\n",
    "sum=first+second\n",
    "print(sum)#due to without type conversion"
   ]
  },
  {
   "cell_type": "code",
   "execution_count": 24,
   "id": "f9e75cb5",
   "metadata": {},
   "outputs": [
    {
     "name": "stdout",
     "output_type": "stream",
     "text": [
      "Enter 1st no:-2\n",
      "Enter 2nd no:-3\n",
      "5\n"
     ]
    }
   ],
   "source": [
    "first=input(\"Enter 1st no:-\")\n",
    "second=input(\"Enter 2nd no:-\")\n",
    "sum=int(first)+int(second)\n",
    "print(sum)"
   ]
  },
  {
   "cell_type": "code",
   "execution_count": 26,
   "id": "020d889c",
   "metadata": {},
   "outputs": [
    {
     "name": "stdout",
     "output_type": "stream",
     "text": [
      "LUCY\n",
      "Lucy\n"
     ]
    }
   ],
   "source": [
    "#strings upper n lower\n",
    "name=\"Lucy\"\n",
    "print(name.upper())\n",
    "print(name)"
   ]
  },
  {
   "cell_type": "code",
   "execution_count": 27,
   "id": "45cd1ec6",
   "metadata": {},
   "outputs": [
    {
     "name": "stdout",
     "output_type": "stream",
     "text": [
      "0\n"
     ]
    }
   ],
   "source": [
    "#find\n",
    "name = \"Milan Mohapatra\"\n",
    "print(name.find('M'))\n"
   ]
  },
  {
   "cell_type": "code",
   "execution_count": 30,
   "id": "e11f22c1",
   "metadata": {},
   "outputs": [
    {
     "name": "stdout",
     "output_type": "stream",
     "text": [
      "Lucy\n",
      "Milan Mohapatra\n",
      "Milan Lucy\n",
      "Lilan Lohapatra\n"
     ]
    }
   ],
   "source": [
    "#replace\n",
    "name = \"Milan Mohapatra\"\n",
    "print(name.replace(\"Milan Mohapatra\",\"Lucy\"))\n",
    "print(name)\n",
    "print(name.replace(\"Mohapatra\",\"Lucy\"))\n",
    "print(name.replace(\"M\",\"L\"))"
   ]
  },
  {
   "cell_type": "code",
   "execution_count": 32,
   "id": "e5aa79c6",
   "metadata": {},
   "outputs": [
    {
     "name": "stdout",
     "output_type": "stream",
     "text": [
      "True\n",
      "False\n",
      "True\n",
      "False\n"
     ]
    }
   ],
   "source": [
    "#check substring or character exist or not\n",
    "name = \"Milan Mohapatra\"\n",
    "print(\"t\" in name)\n",
    "print(\"s\" in name)\n",
    "print(\"Milan\" in name)\n",
    "print(\"Lucy\" in name)"
   ]
  },
  {
   "cell_type": "code",
   "execution_count": 35,
   "id": "062fdbbc",
   "metadata": {},
   "outputs": [
    {
     "name": "stdout",
     "output_type": "stream",
     "text": [
      "7\n",
      "3\n",
      "10\n",
      "2.5\n",
      "1\n",
      "2\n",
      "25\n"
     ]
    }
   ],
   "source": [
    "#arithmetic operator\n",
    "print(5+2)\n",
    "print(5-2)\n",
    "print(5*2)\n",
    "print(5/2)\n",
    "print(5%2)\n",
    "print(5//2)#it removes floating no\n",
    "print(5**2)"
   ]
  },
  {
   "cell_type": "code",
   "execution_count": 43,
   "id": "92696c75",
   "metadata": {},
   "outputs": [
    {
     "ename": "SyntaxError",
     "evalue": "'function call' is an illegal expression for augmented assignment (Temp/ipykernel_5436/1084225863.py, line 4)",
     "output_type": "error",
     "traceback": [
      "\u001b[1;36m  File \u001b[1;32m\"C:\\Users\\User\\AppData\\Local\\Temp/ipykernel_5436/1084225863.py\"\u001b[1;36m, line \u001b[1;32m4\u001b[0m\n\u001b[1;33m    int(i)+=print(i)\u001b[0m\n\u001b[1;37m    ^\u001b[0m\n\u001b[1;31mSyntaxError\u001b[0m\u001b[1;31m:\u001b[0m 'function call' is an illegal expression for augmented assignment\n"
     ]
    }
   ],
   "source": [
    "#minimize operation\n",
    "a= 5\n",
    "a= int(a)+2\n",
    "int(i)+=print(i)\n",
    "\n",
    "int(i)=int(i)-2\n",
    "print(i)\n",
    "int(i)-=2\n",
    "print(i)\n",
    "int(i)*=2\n",
    "print(i)\n",
    "int(i)/=2\n",
    "print(i)\n"
   ]
  },
  {
   "cell_type": "code",
   "execution_count": 44,
   "id": "96dd650c",
   "metadata": {},
   "outputs": [
    {
     "name": "stdout",
     "output_type": "stream",
     "text": [
      "17\n",
      "25\n",
      "2.6\n"
     ]
    }
   ],
   "source": [
    "#precidence\n",
    "result = 2+ 3* 5\n",
    "print(result)\n",
    "result = (2+ 3)* 5\n",
    "print(result)\n",
    "result = 2+ 3/ 5\n",
    "print(result)"
   ]
  },
  {
   "cell_type": "code",
   "execution_count": 46,
   "id": "b8757343",
   "metadata": {},
   "outputs": [
    {
     "name": "stdout",
     "output_type": "stream",
     "text": [
      "True\n",
      "False\n",
      "True\n",
      "False\n",
      "False\n",
      "True\n",
      "False\n",
      "True\n"
     ]
    }
   ],
   "source": [
    "#comparision operator\n",
    "print(3>2)\n",
    "print(3<2)\n",
    "print(3>=2)\n",
    "print(3<=2)\n",
    "print(3==2)\n",
    "print(3==3)\n",
    "print(3!=3)\n",
    "print(3!=2)\n"
   ]
  },
  {
   "cell_type": "code",
   "execution_count": 48,
   "id": "d6be307b",
   "metadata": {},
   "outputs": [
    {
     "name": "stdout",
     "output_type": "stream",
     "text": [
      "True\n",
      "True\n",
      "False\n",
      "True\n",
      "False\n"
     ]
    }
   ],
   "source": [
    "#logical operator\n",
    "print(2 > 3 or 2 > 1)\n",
    "print(3 > 2 and 2>1 )\n",
    "print(3>2 and 2>6)\n",
    "print(not 2 > 3)\n",
    "print(not 3 > 2)"
   ]
  },
  {
   "cell_type": "code",
   "execution_count": 1,
   "id": "e1bad37c",
   "metadata": {},
   "outputs": [
    {
     "name": "stdout",
     "output_type": "stream",
     "text": [
      "You are an adult\n",
      "You can vote\n",
      "Thank you\n"
     ]
    }
   ],
   "source": [
    "#ifelse\n",
    "age=19\n",
    "if age>=18:\n",
    "    print(\"You are an adult\")\n",
    "    print(\"You can vote\")\n",
    "    \n",
    "print(\"Thank you\")    \n",
    "    \n"
   ]
  },
  {
   "cell_type": "code",
   "execution_count": 2,
   "id": "7c411519",
   "metadata": {},
   "outputs": [
    {
     "name": "stdout",
     "output_type": "stream",
     "text": [
      "Thank you\n"
     ]
    }
   ],
   "source": [
    "#ifelse\n",
    "age=16\n",
    "if age>=18:\n",
    "    print(\"You are an adult\")\n",
    "    print(\"You can vote\")\n",
    "    \n",
    "print(\"Thank you\")    \n",
    "    \n"
   ]
  },
  {
   "cell_type": "code",
   "execution_count": 2,
   "id": "0d5904c9",
   "metadata": {},
   "outputs": [
    {
     "name": "stdout",
     "output_type": "stream",
     "text": [
      "you are a child\n",
      "Thank you\n"
     ]
    }
   ],
   "source": [
    "#ifelse\n",
    "age=2\n",
    "if age>=18:\n",
    "    print(\"You are an adult\")\n",
    "    print(\"You can vote\")\n",
    "elif age < 18 and age >3:\n",
    "    print(\"You are in school\")\n",
    "else:\n",
    "    print(\"you are a child\")\n",
    "    \n",
    "    \n",
    "    \n",
    "print(\"Thank you\") "
   ]
  },
  {
   "cell_type": "code",
   "execution_count": 6,
   "id": "f08af204",
   "metadata": {},
   "outputs": [
    {
     "name": "stdout",
     "output_type": "stream",
     "text": [
      "Enter 1st no:-5\n",
      "Enter operator(+,-,*,/,%):/\n",
      "Enter 2nd no:-2\n",
      "2.5\n"
     ]
    }
   ],
   "source": [
    "#calculater bulid\n",
    "first =input(\"Enter 1st no:-\")\n",
    "operator=input(\"Enter operator(+,-,*,/,%):\")\n",
    "second=input(\"Enter 2nd no:-\")\n",
    "first=int(first)\n",
    "second=int(second)\n",
    "if operator==\"+\":\n",
    "    print(first+second)\n",
    "elif operator==\"-\":\n",
    "    print(first-second)\n",
    "elif operator==\"*\":\n",
    "    print(first*second)\n",
    "elif operator==\"/\":\n",
    "    print(first/second)\n",
    "elif operator==\"%\":\n",
    "    print(first%second)\n",
    "else:\n",
    "    print(\"Invalid operation\")"
   ]
  },
  {
   "cell_type": "code",
   "execution_count": 7,
   "id": "815a8ebb",
   "metadata": {},
   "outputs": [
    {
     "data": {
      "text/plain": [
       "range(0, 5)"
      ]
     },
     "execution_count": 7,
     "metadata": {},
     "output_type": "execute_result"
    }
   ],
   "source": [
    "#range\n",
    "range(5)"
   ]
  },
  {
   "cell_type": "code",
   "execution_count": 8,
   "id": "a9291140",
   "metadata": {},
   "outputs": [
    {
     "name": "stdout",
     "output_type": "stream",
     "text": [
      "*\n",
      "**\n",
      "***\n",
      "****\n",
      "*****\n"
     ]
    }
   ],
   "source": [
    "# while loop\n",
    "i=1\n",
    "while i<=5:\n",
    "    print(i *\"*\")\n",
    "    i=i+1\n"
   ]
  },
  {
   "cell_type": "code",
   "execution_count": 9,
   "id": "c5729826",
   "metadata": {},
   "outputs": [
    {
     "name": "stdout",
     "output_type": "stream",
     "text": [
      "*****\n",
      "****\n",
      "***\n",
      "**\n",
      "*\n"
     ]
    }
   ],
   "source": [
    "i=5\n",
    "while i>=1:\n",
    "    print(i *\"*\")\n",
    "    i=i-1"
   ]
  },
  {
   "cell_type": "code",
   "execution_count": 12,
   "id": "45040178",
   "metadata": {},
   "outputs": [
    {
     "name": "stdout",
     "output_type": "stream",
     "text": [
      "0\n",
      "1\n",
      "2\n",
      "3\n",
      "4\n"
     ]
    }
   ],
   "source": [
    "#forloop\n",
    "for i in range(5):\n",
    "    print(i)\n",
    "    \n"
   ]
  },
  {
   "cell_type": "code",
   "execution_count": 15,
   "id": "7d6db71b",
   "metadata": {},
   "outputs": [
    {
     "name": "stdout",
     "output_type": "stream",
     "text": [
      "[95, 65, 75]\n"
     ]
    }
   ],
   "source": [
    "#list\n",
    "marks=[95,65,75]\n",
    "print(marks)\n"
   ]
  },
  {
   "cell_type": "code",
   "execution_count": 16,
   "id": "bd0b1475",
   "metadata": {},
   "outputs": [
    {
     "name": "stdout",
     "output_type": "stream",
     "text": [
      "65\n"
     ]
    }
   ],
   "source": [
    "marks=[95,65,75]\n",
    "print(marks[-2])"
   ]
  },
  {
   "cell_type": "code",
   "execution_count": 19,
   "id": "6ffc4c0c",
   "metadata": {},
   "outputs": [
    {
     "name": "stdout",
     "output_type": "stream",
     "text": [
      "[95, 65]\n",
      "[65, 75]\n",
      "95\n",
      "65\n",
      "75\n"
     ]
    }
   ],
   "source": [
    "marks=[95,65,75]\n",
    "print(marks[0:2])\n",
    "print(marks[1:3])\n",
    "for score in marks:\n",
    "    print(score)"
   ]
  },
  {
   "cell_type": "code",
   "execution_count": 24,
   "id": "6670c746",
   "metadata": {},
   "outputs": [
    {
     "name": "stdout",
     "output_type": "stream",
     "text": [
      "[95, 65, 75, 99]\n",
      "[98, 95, 65, 75, 99]\n",
      "True\n",
      "False\n"
     ]
    }
   ],
   "source": [
    "#append operation\n",
    "marks=[95,65,75]\n",
    "marks.append(99)\n",
    "print(marks)\n",
    "marks.insert(0,98)\n",
    "print(marks)\n",
    "print(98 in marks)\n",
    "print(62 in marks)\n",
    "print(len(marks))"
   ]
  },
  {
   "cell_type": "code",
   "execution_count": 3,
   "id": "32f605f9",
   "metadata": {},
   "outputs": [
    {
     "name": "stdout",
     "output_type": "stream",
     "text": [
      "95\n",
      "[]\n"
     ]
    }
   ],
   "source": [
    "marks=[95,98,97]\n",
    "i=0\n",
    "while i<len(marks):\n",
    "    print(marks[i])\n",
    "    i=i+1\n",
    "    marks.clear()\n",
    "    print(marks)"
   ]
  },
  {
   "cell_type": "code",
   "execution_count": 10,
   "id": "e6fc1948",
   "metadata": {},
   "outputs": [],
   "source": [
    "#break & continue\n",
    "students=[\"ram\",\"shayam\",\"radha\",\"krishna\",\"lucy\"]\n",
    "for student in students:\n",
    "    if student==\"radha\":\n",
    "        break;\n",
    "        print(student)\n",
    "        \n",
    "for student in students:\n",
    "    if student==\"radha\":\n",
    "        continue;\n",
    "        print(student)\n",
    "    \n",
    "    \n",
    "    \n",
    "\n"
   ]
  },
  {
   "cell_type": "code",
   "execution_count": 12,
   "id": "90797d15",
   "metadata": {},
   "outputs": [
    {
     "name": "stdout",
     "output_type": "stream",
     "text": [
      "3\n",
      "2\n"
     ]
    }
   ],
   "source": [
    "#tuple\n",
    "marks=(95,96,98,98,98)\n",
    "print(marks.count(98))\n",
    "print(marks.index(98))\n"
   ]
  },
  {
   "cell_type": "code",
   "execution_count": 17,
   "id": "2042382d",
   "metadata": {},
   "outputs": [
    {
     "name": "stdout",
     "output_type": "stream",
     "text": [
      "('ram', 'shayam', 'rabi')\n",
      "{96, 98, 95}\n",
      "96\n",
      "98\n",
      "95\n"
     ]
    }
   ],
   "source": [
    "#set\n",
    "marks={95,96,98,98,98}\n",
    "person='ram','shayam','rabi'\n",
    "print(person)\n",
    "print(marks)\n",
    "for score in marks:\n",
    "    print(score)"
   ]
  },
  {
   "cell_type": "code",
   "execution_count": 21,
   "id": "4c5082f3",
   "metadata": {},
   "outputs": [
    {
     "name": "stdout",
     "output_type": "stream",
     "text": [
      "98\n",
      "{'english': 95, 'chemestry': 98, 'physics': 94}\n",
      "{'english': 95, 'chemestry': 98, 'physics': 98}\n"
     ]
    }
   ],
   "source": [
    "#dictonary\n",
    "marks={\"english\":95,\"chemestry\":98}\n",
    "\n",
    "print(marks[\"chemestry\"])\n",
    "marks[\"physics\"]=94;\n",
    "print(marks)\n",
    "marks[\"physics\"]=98;\n",
    "print(marks)"
   ]
  },
  {
   "cell_type": "code",
   "execution_count": 23,
   "id": "5a4ec68e",
   "metadata": {},
   "outputs": [
    {
     "name": "stdout",
     "output_type": "stream",
     "text": [
      "['__doc__', '__loader__', '__name__', '__package__', '__spec__', 'acos', 'acosh', 'asin', 'asinh', 'atan', 'atan2', 'atanh', 'ceil', 'comb', 'copysign', 'cos', 'cosh', 'degrees', 'dist', 'e', 'erf', 'erfc', 'exp', 'expm1', 'fabs', 'factorial', 'floor', 'fmod', 'frexp', 'fsum', 'gamma', 'gcd', 'hypot', 'inf', 'isclose', 'isfinite', 'isinf', 'isnan', 'isqrt', 'lcm', 'ldexp', 'lgamma', 'log', 'log10', 'log1p', 'log2', 'modf', 'nan', 'nextafter', 'perm', 'pi', 'pow', 'prod', 'radians', 'remainder', 'sin', 'sinh', 'sqrt', 'tan', 'tanh', 'tau', 'trunc', 'ulp']\n",
      "2.0\n"
     ]
    }
   ],
   "source": [
    "#function\n",
    "#import function\n",
    "import math\n",
    "print(dir(math))\n",
    "from math import sqrt\n",
    "print(sqrt(4))\n",
    "from math import *\n",
    "print(sqrt(16))"
   ]
  },
  {
   "cell_type": "code",
   "execution_count": 24,
   "id": "6e422a69",
   "metadata": {},
   "outputs": [
    {
     "name": "stdout",
     "output_type": "stream",
     "text": [
      "3\n"
     ]
    }
   ],
   "source": [
    "#userdefine function\n",
    "#def function_name(parameter):   syntax\n",
    "def print_sum(first,second):\n",
    "    print(first+second)\n",
    "    \n",
    "print_sum(1,2)    "
   ]
  },
  {
   "cell_type": "code",
   "execution_count": 25,
   "id": "9efec19d",
   "metadata": {},
   "outputs": [
    {
     "name": "stdout",
     "output_type": "stream",
     "text": [
      "5\n"
     ]
    }
   ],
   "source": [
    "def print_sum(first,second=4):\n",
    "    print(first+second)\n",
    "    \n",
    "print_sum(1)  "
   ]
  },
  {
   "cell_type": "code",
   "execution_count": null,
   "id": "bbd404b6",
   "metadata": {},
   "outputs": [],
   "source": []
  }
 ],
 "metadata": {
  "kernelspec": {
   "display_name": "Python 3 (ipykernel)",
   "language": "python",
   "name": "python3"
  },
  "language_info": {
   "codemirror_mode": {
    "name": "ipython",
    "version": 3
   },
   "file_extension": ".py",
   "mimetype": "text/x-python",
   "name": "python",
   "nbconvert_exporter": "python",
   "pygments_lexer": "ipython3",
   "version": "3.9.7"
  }
 },
 "nbformat": 4,
 "nbformat_minor": 5
}
